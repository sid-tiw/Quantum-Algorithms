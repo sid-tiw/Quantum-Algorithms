{
 "cells": [
  {
   "cell_type": "code",
   "execution_count": 3,
   "id": "1372e794",
   "metadata": {},
   "outputs": [],
   "source": [
    "import numpy as np\n",
    "# Importing standard Qiskit libraries\n",
    "from qiskit import QuantumCircuit, transpile, Aer, IBMQ, assemble\n",
    "from qiskit.tools.jupyter import *\n",
    "from qiskit.visualization import *\n",
    "from ibm_quantum_widgets import *\n",
    "\n",
    "# Loading your IBM Q account(s)\n",
    "provider = IBMQ.load_account()"
   ]
  },
  {
   "cell_type": "code",
   "execution_count": 4,
   "id": "04597a24",
   "metadata": {},
   "outputs": [],
   "source": [
    "provider = IBMQ.providers()[0]"
   ]
  },
  {
   "cell_type": "code",
   "execution_count": 5,
   "id": "f925774d",
   "metadata": {},
   "outputs": [
    {
     "data": {
      "text/plain": [
       "[<IBMQSimulator('ibmq_qasm_simulator') from IBMQ(hub='ibm-q', group='open', project='main')>,\n",
       " <IBMQBackend('ibmqx2') from IBMQ(hub='ibm-q', group='open', project='main')>,\n",
       " <IBMQBackend('ibmq_16_melbourne') from IBMQ(hub='ibm-q', group='open', project='main')>,\n",
       " <IBMQBackend('ibmq_armonk') from IBMQ(hub='ibm-q', group='open', project='main')>,\n",
       " <IBMQBackend('ibmq_athens') from IBMQ(hub='ibm-q', group='open', project='main')>,\n",
       " <IBMQBackend('ibmq_santiago') from IBMQ(hub='ibm-q', group='open', project='main')>,\n",
       " <IBMQBackend('ibmq_lima') from IBMQ(hub='ibm-q', group='open', project='main')>,\n",
       " <IBMQBackend('ibmq_belem') from IBMQ(hub='ibm-q', group='open', project='main')>,\n",
       " <IBMQBackend('ibmq_quito') from IBMQ(hub='ibm-q', group='open', project='main')>,\n",
       " <IBMQSimulator('simulator_statevector') from IBMQ(hub='ibm-q', group='open', project='main')>,\n",
       " <IBMQSimulator('simulator_mps') from IBMQ(hub='ibm-q', group='open', project='main')>,\n",
       " <IBMQSimulator('simulator_extended_stabilizer') from IBMQ(hub='ibm-q', group='open', project='main')>,\n",
       " <IBMQSimulator('simulator_stabilizer') from IBMQ(hub='ibm-q', group='open', project='main')>]"
      ]
     },
     "execution_count": 5,
     "metadata": {},
     "output_type": "execute_result"
    }
   ],
   "source": [
    "provider.backends()"
   ]
  },
  {
   "cell_type": "code",
   "execution_count": 6,
   "id": "f9db6883",
   "metadata": {},
   "outputs": [],
   "source": [
    "backend = provider.get_backend('ibmq_qasm_simulator')"
   ]
  },
  {
   "cell_type": "code",
   "execution_count": 10,
   "id": "a76076a2",
   "metadata": {},
   "outputs": [
    {
     "data": {
      "image/png": "[encoded data removed]",
      "text/plain": [
       "<Figure size 447.797x325.08 with 1 Axes>"
      ]
     },
     "execution_count": 10,
     "metadata": {},
     "output_type": "execute_result"
    }
   ],
   "source": [
    "# So basically I am using a Toffoli gate (ccx) to mimic the AND gate and a Controlled-NOT for classical XOR gate.\n",
    "# 4 bits input (the first two containing the bits to add and others are 0) and 2 bits output (meausuring the last two bits)\n",
    "qCircuit = QuantumCircuit(4, 2)\n",
    "\n",
    "# Encoding the input here\n",
    "qCircuit.x(0)\n",
    "qCircuit.x(1)\n",
    "# Encoding ends here\n",
    "\n",
    "# Controlled-NOT gate on 1st and 3rd bit the output will be written on the second bit. b3 = b1 XOR b3 = b1\n",
    "# because b3 in initially 0\n",
    "qCircuit.cx(0, 2)\n",
    "\n",
    "# Controlled-NOT gate on 2nd and 3rd bit. b3 = b3 XOR b2 = b1 XOR b2\n",
    "qCircuit.cx(1, 2)\n",
    "\n",
    "# Now the XOR is stored on the 3rd bit, and the first two bits are unchanged, Toffoli gate will do the AND operation, and can calculate the carry.\n",
    "# Carry will be stored on the 4th bit.\n",
    "qCircuit.ccx(0, 1, 3)\n",
    "\n",
    "# measure the last two bits in the first and second position\n",
    "qCircuit.measure(2, 0)\n",
    "qCircuit.measure(3, 1)\n",
    "\n",
    "# see if the circuit is right or not\n",
    "qCircuit.draw()"
   ]
  },
  {
   "cell_type": "code",
   "execution_count": 11,
   "id": "d2d864db",
   "metadata": {},
   "outputs": [],
   "source": [
    "# assembling the circuit for the backend\n",
    "qObj = assemble(qCircuit)\n",
    "\n",
    "# the result, after the circuit runs on the backend, contains the counts (and thus the probabilities) of all measuring possibilities.\n",
    "result = backend.run(qObj).result()"
   ]
  },
  {
   "cell_type": "code",
   "execution_count": 13,
   "id": "9ba2a35d",
   "metadata": {},
   "outputs": [
    {
     "name": "stdout",
     "output_type": "stream",
     "text": [
      "The result of 1 + 1 is: 10\n"
     ]
    }
   ],
   "source": [
    "count = result.get_counts()\n",
    "\n",
    "# find the result corresponding to maximum count\n",
    "mx = max(count, key=count.get)\n",
    "print(\"The result of 1 + 1 is: \", end = \"\")\n",
    "print(mx)"
   ]
  }
 ],
 "metadata": {
  "kernelspec": {
   "display_name": "Python 3",
   "language": "python",
   "name": "python3"
  },
  "language_info": {
   "codemirror_mode": {
    "name": "ipython",
    "version": 3
   },
   "file_extension": ".py",
   "mimetype": "text/x-python",
   "name": "python",
   "nbconvert_exporter": "python",
   "pygments_lexer": "ipython3",
   "version": "3.8.8"
  }
 },
 "nbformat": 4,
 "nbformat_minor": 5
}

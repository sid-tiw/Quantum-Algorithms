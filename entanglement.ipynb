{
 "cells": [
  {
   "cell_type": "code",
   "execution_count": 1,
   "id": "1372e794",
   "metadata": {},
   "outputs": [],
   "source": [
    "# Using a circuit(described below) to create the bell states in which both the qubits are entangled.\n",
    "# Then I will perform some measurements to check the nature of this entanglement.\n",
    "\n",
    "import numpy as np\n",
    "# Importing standard Qiskit libraries\n",
    "from qiskit import QuantumCircuit, transpile, Aer, IBMQ, assemble\n",
    "from qiskit.tools.jupyter import *\n",
    "from qiskit.visualization import *\n",
    "from ibm_quantum_widgets import *\n",
    "\n",
    "# Loading your IBM Q account(s)\n",
    "provider = IBMQ.load_account()"
   ]
  },
  {
   "cell_type": "code",
   "execution_count": 2,
   "id": "04597a24",
   "metadata": {},
   "outputs": [],
   "source": [
    "provider = IBMQ.providers()[0]"
   ]
  },
  {
   "cell_type": "code",
   "execution_count": 3,
   "id": "f925774d",
   "metadata": {},
   "outputs": [
    {
     "data": {
      "text/plain": [
       "[<IBMQSimulator('ibmq_qasm_simulator') from IBMQ(hub='ibm-q', group='open', project='main')>,\n",
       " <IBMQBackend('ibmqx2') from IBMQ(hub='ibm-q', group='open', project='main')>,\n",
       " <IBMQBackend('ibmq_16_melbourne') from IBMQ(hub='ibm-q', group='open', project='main')>,\n",
       " <IBMQBackend('ibmq_armonk') from IBMQ(hub='ibm-q', group='open', project='main')>,\n",
       " <IBMQBackend('ibmq_athens') from IBMQ(hub='ibm-q', group='open', project='main')>,\n",
       " <IBMQBackend('ibmq_santiago') from IBMQ(hub='ibm-q', group='open', project='main')>,\n",
       " <IBMQBackend('ibmq_lima') from IBMQ(hub='ibm-q', group='open', project='main')>,\n",
       " <IBMQBackend('ibmq_belem') from IBMQ(hub='ibm-q', group='open', project='main')>,\n",
       " <IBMQBackend('ibmq_quito') from IBMQ(hub='ibm-q', group='open', project='main')>,\n",
       " <IBMQSimulator('simulator_statevector') from IBMQ(hub='ibm-q', group='open', project='main')>,\n",
       " <IBMQSimulator('simulator_mps') from IBMQ(hub='ibm-q', group='open', project='main')>,\n",
       " <IBMQSimulator('simulator_extended_stabilizer') from IBMQ(hub='ibm-q', group='open', project='main')>,\n",
       " <IBMQSimulator('simulator_stabilizer') from IBMQ(hub='ibm-q', group='open', project='main')>]"
      ]
     },
     "execution_count": 3,
     "metadata": {},
     "output_type": "execute_result"
    }
   ],
   "source": [
    "provider.backends()"
   ]
  },
  {
   "cell_type": "code",
   "execution_count": 4,
   "id": "f9db6883",
   "metadata": {},
   "outputs": [],
   "source": [
    "backend = provider.get_backend('ibmq_qasm_simulator')"
   ]
  },
  {
   "cell_type": "code",
   "execution_count": 5,
   "id": "a76076a2",
   "metadata": {},
   "outputs": [
    {
     "data": {
      "image/png": "[encoded data removed]",
      "text/plain": [
       "<Figure size 387.452x204.68 with 1 Axes>"
      ]
     },
     "execution_count": 5,
     "metadata": {},
     "output_type": "execute_result"
    }
   ],
   "source": [
    "# Here I at first use a Hadamard gate to create a qubit in superposition of 0 and 1\n",
    "# then applying a controlled not on the other qubit with the qubit in superposition acting as the control bit.\n",
    "qCircuit = QuantumCircuit(2, 2)\n",
    "\n",
    "# Encoding the input here\n",
    "# both the qubits will be 1 after this encoding, and the bell states created will be (\\01> - \\10>)/sqrt(2)\n",
    "qCircuit.x(0)\n",
    "qCircuit.x(1)\n",
    "# Encoding ends here\n",
    "\n",
    "# Applying the Hadamard gate on the fist qubit\n",
    "qCircuit.h(0)\n",
    "\n",
    "# Controlled-NOT gate on 1st and 2nd bit.\n",
    "qCircuit.cx(0, 1)\n",
    "\n",
    "# Now let's measure the bits(so excited ...)\n",
    "qCircuit.measure(0, 0)\n",
    "qCircuit.measure(1, 1)\n",
    "\n",
    "# see if the circuit is right or not\n",
    "qCircuit.draw()"
   ]
  },
  {
   "cell_type": "code",
   "execution_count": 6,
   "id": "d2d864db",
   "metadata": {},
   "outputs": [
    {
     "name": "stderr",
     "output_type": "stream",
     "text": [
      "/opt/conda/lib/python3.8/site-packages/qiskit/providers/ibmq/ibmqbackend.py:814: DeprecationWarning: Passing a Qobj to Backend.run is deprecated and will be removed in a future release. Please pass in circuits or pulse schedules instead.\n",
      "  return super().run(circuits, job_name=job_name, job_share_level=job_share_level,\n"
     ]
    }
   ],
   "source": [
    "# assembling the circuit for the backend\n",
    "qObj = assemble(qCircuit)\n",
    "\n",
    "# the result, after the circuit runs on the backend, contains the counts (and thus the probabilities) of all measuring possibilities.\n",
    "result = backend.run(qObj).result()"
   ]
  },
  {
   "cell_type": "code",
   "execution_count": 9,
   "id": "9ba2a35d",
   "metadata": {},
   "outputs": [
    {
     "data": {
      "image/png": "[encoded data removed]",
      "text/plain": [
       "<Figure size 504x360 with 1 Axes>"
      ]
     },
     "execution_count": 9,
     "metadata": {},
     "output_type": "execute_result"
    }
   ],
   "source": [
    "count = result.get_counts()\n",
    "plot_histogram(count)\n",
    "# Seeing this histogram confirms the entanglement (with half of the time qubit observed is 01 and other half is 1*)\n",
    "# So measuring 1 on the first qubit tells with certainty that the second qubit is 1. Similarly, the reverse is also true."
   ]
  }
 ],
 "metadata": {
  "kernelspec": {
   "display_name": "Python 3",
   "language": "python",
   "name": "python3"
  },
  "language_info": {
   "codemirror_mode": {
    "name": "ipython",
    "version": 3
   },
   "file_extension": ".py",
   "mimetype": "text/x-python",
   "name": "python",
   "nbconvert_exporter": "python",
   "pygments_lexer": "ipython3",
   "version": "3.8.8"
  }
 },
 "nbformat": 4,
 "nbformat_minor": 5
}
